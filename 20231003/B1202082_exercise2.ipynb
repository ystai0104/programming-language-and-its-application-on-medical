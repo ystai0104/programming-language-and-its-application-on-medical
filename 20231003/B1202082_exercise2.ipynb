{
  "nbformat": 4,
  "nbformat_minor": 0,
  "metadata": {
    "colab": {
      "provenance": []
    },
    "kernelspec": {
      "name": "python3",
      "display_name": "Python 3"
    },
    "language_info": {
      "name": "python"
    }
  },
  "cells": [
    {
      "cell_type": "code",
      "execution_count": null,
      "metadata": {
        "colab": {
          "base_uri": "https://localhost:8080/"
        },
        "id": "0yNMklMDc3KS",
        "outputId": "b55376ba-385a-4259-96ed-008f70b30255"
      },
      "outputs": [
        {
          "output_type": "stream",
          "name": "stdout",
          "text": [
            "A\n",
            "['K', 'H', 'U']\n"
          ]
        }
      ],
      "source": [
        "a='C,B,A'\n",
        "b=['F','G','H']\n",
        "c=a.split(',')+b\n",
        "c[0:1]='K'\n",
        "d=c.pop(2)\n",
        "print(d)\n",
        "del c[1:4]\n",
        "c.append('U')\n",
        "print(c)"
      ]
    },
    {
      "cell_type": "code",
      "source": [
        "w=input ('輸入體重(kg):')\n",
        "h=input ('輸入身高(m):')\n",
        "w=float (w)\n",
        "h=float (h)\n",
        "w/=(h**2)\n",
        "print ('BMI:',w)\n",
        "if w<18.5:\n",
        "  print('體位:過輕')\n",
        "elif w>=18.5 and w<24:\n",
        "  print('體位:適中')\n",
        "elif w>=24 and w<27:\n",
        "  print('體位:過重')\n",
        "elif w>=27:\n",
        "  print('體位:肥胖')"
      ],
      "metadata": {
        "id": "OAHPp-rfhtB-",
        "colab": {
          "base_uri": "https://localhost:8080/"
        },
        "outputId": "95b1ef05-5b40-4d03-c6c8-4f910fc3b907"
      },
      "execution_count": null,
      "outputs": [
        {
          "output_type": "stream",
          "name": "stdout",
          "text": [
            "輸入體重(kg):52\n",
            "輸入身高(m):1.55\n",
            "BMI: 21.64412070759625\n",
            "體位:適中\n"
          ]
        }
      ]
    }
  ]
}