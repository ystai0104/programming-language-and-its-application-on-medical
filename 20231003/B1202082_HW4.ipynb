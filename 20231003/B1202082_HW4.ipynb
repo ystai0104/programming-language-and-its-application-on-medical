{
  "nbformat": 4,
  "nbformat_minor": 0,
  "metadata": {
    "colab": {
      "provenance": []
    },
    "kernelspec": {
      "name": "python3",
      "display_name": "Python 3"
    },
    "language_info": {
      "name": "python"
    }
  },
  "cells": [
    {
      "cell_type": "code",
      "execution_count": 39,
      "metadata": {
        "colab": {
          "base_uri": "https://localhost:8080/"
        },
        "id": "WHDJgNvCI0bO",
        "outputId": "5348f9b9-1b5a-45b0-a1ae-d6d0e0e6fec2"
      },
      "outputs": [
        {
          "output_type": "stream",
          "name": "stdout",
          "text": [
            "請輸入分數:100\n",
            "請輸入分數:90\n",
            "請輸入分數:80\n",
            "請輸入分數:70\n",
            "請輸入分數:60\n",
            "80.0\n"
          ]
        }
      ],
      "source": [
        "A=[]\n",
        "for i in range(5):\n",
        "  A.append(int(input('請輸入分數:')))\n",
        "A.sort()\n",
        "del A[0]\n",
        "del A[-1]\n",
        "X= A[0]+A[1]+A[2]\n",
        "print(X/3)"
      ]
    },
    {
      "cell_type": "code",
      "source": [
        "x=input('輸入數字一')\n",
        "y=input('輸入數字二')\n",
        "x=float(x)\n",
        "y=float(y)\n",
        "z=input('輸入運算符號')\n",
        "if z=='+':\n",
        "  print(x+y)\n",
        "elif z=='-':\n",
        "  print(x-y)\n",
        "elif z=='*':\n",
        "  print(x*y)\n",
        "elif z=='/':\n",
        "  print(x/y)"
      ],
      "metadata": {
        "colab": {
          "base_uri": "https://localhost:8080/"
        },
        "id": "OoZAvTwaKIdY",
        "outputId": "109648a1-5894-437c-df44-a93083362bbe"
      },
      "execution_count": 17,
      "outputs": [
        {
          "output_type": "stream",
          "name": "stdout",
          "text": [
            "輸入數字一2.56\n",
            "輸入數字二2.56\n",
            "輸入運算符號+\n",
            "5.12\n"
          ]
        }
      ]
    },
    {
      "cell_type": "code",
      "source": [
        "year=int(input(\"輸入年分: \"))\n",
        "if year%4==0 and year%100!=0:\n",
        "  print('是閏年')\n",
        "elif year%4==0 and year%100==0 and year%400==0:\n",
        "  print('是閏年')\n",
        "else:\n",
        "  print('是平年')"
      ],
      "metadata": {
        "colab": {
          "base_uri": "https://localhost:8080/"
        },
        "id": "o-yO8klLMG6a",
        "outputId": "e4ff0585-395e-46a6-9043-1cf8a5824c00"
      },
      "execution_count": 29,
      "outputs": [
        {
          "output_type": "stream",
          "name": "stdout",
          "text": [
            "輸入年分: 2000\n",
            "是閏年\n"
          ]
        }
      ]
    }
  ]
}