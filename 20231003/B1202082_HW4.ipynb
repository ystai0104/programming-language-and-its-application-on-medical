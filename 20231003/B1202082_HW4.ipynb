{
  "nbformat": 4,
  "nbformat_minor": 0,
  "metadata": {
    "colab": {
      "provenance": []
    },
    "kernelspec": {
      "name": "python3",
      "display_name": "Python 3"
    },
    "language_info": {
      "name": "python"
    }
  },
  "cells": [
    {
      "cell_type": "code",
      "execution_count": 50,
      "metadata": {
        "colab": {
          "base_uri": "https://localhost:8080/"
        },
        "id": "WHDJgNvCI0bO",
        "outputId": "c8c61fe7-08d9-4fe9-8ef6-158709d5c6d0"
      },
      "outputs": [
        {
          "output_type": "stream",
          "name": "stdout",
          "text": [
            "100 90 80 70 60\n",
            "80.0\n"
          ]
        }
      ],
      "source": [
        "a=input()\n",
        "A=a.split(' ')\n",
        "A=[int(x) for x in A]\n",
        "A.sort()\n",
        "del A[0]\n",
        "del A[-1]\n",
        "k=A[0]+A[1]+A[2]\n",
        "t=k/3\n",
        "print(t)"
      ]
    },
    {
      "cell_type": "code",
      "source": [
        "x=input('輸入數字一')\n",
        "y=input('輸入數字二')\n",
        "x=float(x)\n",
        "y=float(y)\n",
        "z=input('輸入運算符號')\n",
        "if z=='+':\n",
        "  print(x+y)\n",
        "elif z=='-':\n",
        "  print(x-y)\n",
        "elif z=='*':\n",
        "  print(x*y)\n",
        "elif z=='/':\n",
        "  print(x/y)"
      ],
      "metadata": {
        "colab": {
          "base_uri": "https://localhost:8080/"
        },
        "id": "OoZAvTwaKIdY",
        "outputId": "109648a1-5894-437c-df44-a93083362bbe"
      },
      "execution_count": null,
      "outputs": [
        {
          "output_type": "stream",
          "name": "stdout",
          "text": [
            "輸入數字一2.56\n",
            "輸入數字二2.56\n",
            "輸入運算符號+\n",
            "5.12\n"
          ]
        }
      ]
    },
    {
      "cell_type": "code",
      "source": [
        "year=int(input(\"輸入年分: \"))\n",
        "if year<=1582:\n",
        "  if year%4==0:\n",
        "    print('是閏年')\n",
        "  else:\n",
        "   print('是平年')\n",
        "elif year%4==0 and year%100!=0:\n",
        "  print('是閏年')\n",
        "elif year%4==0 and year%100==0 and year%400==0:\n",
        "  print('是閏年')\n",
        "else:\n",
        "  print('是平年')"
      ],
      "metadata": {
        "colab": {
          "base_uri": "https://localhost:8080/"
        },
        "id": "o-yO8klLMG6a",
        "outputId": "14768c1e-02e8-462f-ef4a-7976c1638a9f"
      },
      "execution_count": 5,
      "outputs": [
        {
          "output_type": "stream",
          "name": "stdout",
          "text": [
            "輸入年分: 1700\n",
            "是平年\n"
          ]
        }
      ]
    }
  ]
}