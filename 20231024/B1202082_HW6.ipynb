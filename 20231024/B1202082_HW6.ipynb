{
  "nbformat": 4,
  "nbformat_minor": 0,
  "metadata": {
    "colab": {
      "provenance": []
    },
    "kernelspec": {
      "name": "python3",
      "display_name": "Python 3"
    },
    "language_info": {
      "name": "python"
    }
  },
  "cells": [
    {
      "cell_type": "code",
      "source": [
        "x=int(input('聖誕樹層數:'))\n",
        "for i in range(x):\n",
        "  for j in range(x-i):\n",
        "    print(' ',end=' ')\n",
        "  for k in range(i+1):\n",
        "    print('*',end=' ')\n",
        "  for k in range(i):\n",
        "    print('*',end=' ')\n",
        "  print()\n",
        "for z in range(5):\n",
        "  for s in range(x-1):\n",
        "    print(' ',end=' ')\n",
        "  for l in range(3):\n",
        "    print('*',end=' ')\n",
        "  print()"
      ],
      "metadata": {
        "colab": {
          "base_uri": "https://localhost:8080/"
        },
        "id": "bF0CwN9HkUC9",
        "outputId": "83290e06-586e-472c-93d2-d8fc254f77c2"
      },
      "execution_count": 1,
      "outputs": [
        {
          "output_type": "stream",
          "name": "stdout",
          "text": [
            "聖誕樹層數:9\n",
            "                  * \n",
            "                * * * \n",
            "              * * * * * \n",
            "            * * * * * * * \n",
            "          * * * * * * * * * \n",
            "        * * * * * * * * * * * \n",
            "      * * * * * * * * * * * * * \n",
            "    * * * * * * * * * * * * * * * \n",
            "  * * * * * * * * * * * * * * * * * \n",
            "                * * * \n",
            "                * * * \n",
            "                * * * \n",
            "                * * * \n",
            "                * * * \n"
          ]
        }
      ]
    },
    {
      "cell_type": "code",
      "source": [
        "def BMI(h,w):\n",
        "  result=w/((h/100)**2)\n",
        "  return result\n",
        "try:\n",
        "  w=float(input('輸入體重(kg):'))\n",
        "  h=float(input('輸入身高(cm):'))\n",
        "  print(BMI(h,w))\n",
        "  k=BMI(h,w)\n",
        "  if k<18.5:\n",
        "    print('體位:過輕')\n",
        "  elif 18.5<=k<24:\n",
        "    print('體位:適中')\n",
        "  elif 24<=k<27:\n",
        "    print('體位:過重')\n",
        "  else:\n",
        "    print('體位:肥胖')\n",
        "except:\n",
        "  print('輸入內容錯誤')"
      ],
      "metadata": {
        "colab": {
          "base_uri": "https://localhost:8080/"
        },
        "id": "2bplcDqVoqKK",
        "outputId": "a5abadb4-310d-419a-d680-09571be33053"
      },
      "execution_count": 8,
      "outputs": [
        {
          "output_type": "stream",
          "name": "stdout",
          "text": [
            "輸入體重(kg):70\n",
            "輸入身高(cm):180\n",
            "21.604938271604937\n",
            "體位:適中\n"
          ]
        }
      ]
    }
  ]
}