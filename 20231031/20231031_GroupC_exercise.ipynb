{
  "nbformat": 4,
  "nbformat_minor": 0,
  "metadata": {
    "colab": {
      "provenance": []
    },
    "kernelspec": {
      "name": "python3",
      "display_name": "Python 3"
    },
    "language_info": {
      "name": "python"
    }
  },
  "cells": [
    {
      "cell_type": "code",
      "execution_count": 23,
      "metadata": {
        "id": "v1_0-OKyib1M",
        "colab": {
          "base_uri": "https://localhost:8080/"
        },
        "outputId": "1e20f1eb-88f1-4349-a2f4-aaf0e4630a12"
      },
      "outputs": [
        {
          "output_type": "stream",
          "name": "stdout",
          "text": [
            "請輸入一個數字:87\n",
            "83\n"
          ]
        }
      ],
      "source": [
        "a = int(input('請輸入一個數字:'))\n",
        "x=0\n",
        "if a<2:\n",
        "    print('錯誤')\n",
        "else:89\n",
        "  for b in range(1,(a+1)):\n",
        "    n=0\n",
        "    for i in range(1,(b+1)):\n",
        "      if b%i==0:\n",
        "        n+=1\n",
        "    if n==2:\n",
        "      x=b\n",
        "  print(x)\n",
        "\n"
      ]
    },
    {
      "cell_type": "code",
      "source": [
        "a=input('請輸入一列數字，數字間以逗號隔開:')\n",
        "a=a.split(',')\n",
        "b=[ ]\n",
        "for i in range(0,len(a)):\n",
        "  n=0\n",
        "  for j in range(0,len(a)):\n",
        "    if a[i]>a[j]:\n",
        "      n+=1\n",
        "  b.append(n)\n",
        "print(b)"
      ],
      "metadata": {
        "colab": {
          "base_uri": "https://localhost:8080/"
        },
        "id": "mzd0ht8SnNyZ",
        "outputId": "07b18a8f-dce8-4ae9-c58d-f01975b8002a"
      },
      "execution_count": 11,
      "outputs": [
        {
          "output_type": "stream",
          "name": "stdout",
          "text": [
            "請輸入一列數字，數字間以逗號隔開:1,3,5,7,9\n",
            "[0, 1, 2, 3, 4]\n"
          ]
        }
      ]
    },
    {
      "cell_type": "code",
      "source": [
        "box=list(input('輸入:'))\n",
        "ans=[]\n",
        "for i in range(0,len(box)):\n",
        "  k=0\n",
        "  for j in range(0,len(box)):\n",
        "    if int(box[j])==1:\n",
        "      n=abs(i-j)\n",
        "      k=n+k\n",
        "  ans.append(k)\n",
        "print(ans)"
      ],
      "metadata": {
        "colab": {
          "base_uri": "https://localhost:8080/"
        },
        "id": "Y4PDPQ9Up2QZ",
        "outputId": "a9d3502a-5838-410b-db06-ee2f558a5b78"
      },
      "execution_count": 18,
      "outputs": [
        {
          "output_type": "stream",
          "name": "stdout",
          "text": [
            "輸入:001011\n",
            "[11, 8, 5, 4, 3, 4]\n"
          ]
        }
      ]
    }
  ]
}