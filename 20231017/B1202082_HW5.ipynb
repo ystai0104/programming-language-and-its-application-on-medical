{
  "nbformat": 4,
  "nbformat_minor": 0,
  "metadata": {
    "colab": {
      "provenance": []
    },
    "kernelspec": {
      "name": "python3",
      "display_name": "Python 3"
    },
    "language_info": {
      "name": "python"
    }
  },
  "cells": [
    {
      "cell_type": "code",
      "execution_count": 4,
      "metadata": {
        "colab": {
          "base_uri": "https://localhost:8080/"
        },
        "id": "JSbhMuFVuTt1",
        "outputId": "70995678-f0df-4826-8dda-aeb06db36162"
      },
      "outputs": [
        {
          "output_type": "stream",
          "name": "stdout",
          "text": [
            "                * \n",
            "              * * * \n",
            "            * * * * * \n",
            "          * * * * * * * \n",
            "        * * * * * * * * * \n",
            "      * * * * * * * * * * * \n",
            "    * * * * * * * * * * * * * \n",
            "  * * * * * * * * * * * * * * * \n",
            "              * * * \n",
            "              * * * \n",
            "              * * * \n",
            "              * * * \n",
            "              * * * \n"
          ]
        }
      ],
      "source": [
        "for i in range(8):\n",
        "  for j in range(8-i):\n",
        "    print(' ',end=' ')\n",
        "  for k in range(i+1):\n",
        "    print('*',end=' ')\n",
        "  for k in range(i):\n",
        "    print('*',end=' ')\n",
        "  print()\n",
        "for z in range(5):\n",
        "  for s in range(7):\n",
        "    print(' ',end=' ')\n",
        "  for l in range(3):\n",
        "    print('*',end=' ')\n",
        "  print()"
      ]
    },
    {
      "cell_type": "code",
      "source": [
        "import random\n",
        "answer = random.sample(range(1, 10), 4)\n",
        "print(answer)\n",
        "a = b = n = 0\n",
        "while a!=4:\n",
        "    a = b = n = 0\n",
        "    user = list(input('輸入四個數字：'))\n",
        "    if len(user)>4:\n",
        "      print('輸入數字過多，請輸入四個數字')\n",
        "    else:\n",
        "      for i in user:\n",
        "        if int(user[n]) == answer[n]:\n",
        "            a += 1\n",
        "        else:\n",
        "            if int(i) in answer:\n",
        "                b += 1\n",
        "        n += 1\n",
        "      output = ','.join(user).replace(',','')\n",
        "      print(f'{output}: {a}A{b}B')\n",
        "print('答對了！')"
      ],
      "metadata": {
        "colab": {
          "base_uri": "https://localhost:8080/"
        },
        "id": "nvmvsmcI7B5y",
        "outputId": "4c209231-79da-48d6-f7cc-a184aa681661"
      },
      "execution_count": 11,
      "outputs": [
        {
          "output_type": "stream",
          "name": "stdout",
          "text": [
            "[8, 6, 7, 4]\n",
            "輸入四個數字：789789\n",
            "輸入數字過多，請輸入四個數字\n",
            "輸入四個數字：9765\n",
            "9765: 0A2B\n",
            "輸入四個數字：1231\n",
            "1231: 0A0B\n",
            "輸入四個數字：4678\n",
            "4678: 2A2B\n",
            "輸入四個數字：4768\n",
            "4768: 0A4B\n",
            "輸入四個數字：8674\n",
            "8674: 4A0B\n",
            "答對了！\n"
          ]
        }
      ]
    }
  ]
}